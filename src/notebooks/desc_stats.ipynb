{
 "cells": [
  {
   "cell_type": "code",
   "execution_count": 5,
   "metadata": {},
   "outputs": [],
   "source": [
    "import gymnasium as gym\n",
    "import numpy as np\n",
    "import pandas as pd\n",
    "import math\n",
    "import matplotlib.pyplot as plt\n",
    "from stable_baselines3 import DQN\n",
    "from stable_baselines3.common.env_checker import check_env\n",
    "from stable_baselines3.common.monitor import Monitor\n",
    "from stable_baselines3.common.results_plotter import load_results, ts2xy, plot_results\n",
    "from matplotlib.table import Table\n",
    "from matplotlib.font_manager import FontProperties\n",
    "import itertools\n",
    "import os"
   ]
  },
  {
   "cell_type": "markdown",
   "metadata": {},
   "source": [
    "# Training Liquid vs. Illiquid Data Processing"
   ]
  },
  {
   "cell_type": "code",
   "execution_count": 51,
   "metadata": {},
   "outputs": [
    {
     "name": "stdout",
     "output_type": "stream",
     "text": [
      "Market: liquid\n",
      "DQN: -17678,3536 11358,1416 -77346,0363 -2619,4496\n",
      "A2C: -23329,4330 14715,6362 -87840,1972 -3283,3949\n",
      "PPO: -20296,1389 11396,2201 -60810,7740 -4445,0768\n",
      "\n",
      "Market: illiquid\n",
      "DQN: -19751,8653 10992,4280 -67644,0507 -5134,2674\n",
      "A2C: -19144,4384 10797,9435 -58569,7713 -3095,9759\n",
      "PPO: -19742,0380 10441,6869 -67525,9704 -4002,5159\n",
      "\n"
     ]
    }
   ],
   "source": [
    "import pandas as pd\n",
    "\n",
    "def load_and_describe(file_path):\n",
    "    df = pd.read_csv(file_path, comment='#')\n",
    "    desc_stats = df.describe()\n",
    "    return desc_stats.transpose()\n",
    "\n",
    "def print_market_cond_stats(base_path):\n",
    "    markets = ['liquid', 'illiquid']\n",
    "    models = ['DQN', 'A2C', 'PPO']\n",
    "\n",
    "    for market in markets:\n",
    "        print(f\"Market: {market}\")\n",
    "        for model in models:\n",
    "            file_path = f\"{base_path}/{model}/{market}/monitor.csv\"\n",
    "            desc_stats = load_and_describe(file_path)\n",
    "\n",
    "            mean_val = f\"{desc_stats['mean']['r']:.4f}\".replace('.', ',')\n",
    "            std_val = f\"{desc_stats['std']['r']:.4f}\".replace('.', ',')\n",
    "            min_val = f\"{desc_stats['min']['r']:.4f}\".replace('.', ',')\n",
    "            max_val = f\"{desc_stats['max']['r']:.4f}\".replace('.', ',')\n",
    "\n",
    "            print(f\"{model}: {mean_val} {std_val} {min_val} {max_val}\")\n",
    "        print()\n",
    "\n",
    "\n",
    "base_path = '/Users/ulfarsnaefeld/Desktop/CORPFIN/thesis/programs/illiquid-rm-mm-env/src/models/trained_models/'\n",
    "print_market_cond_stats(base_path)"
   ]
  },
  {
   "cell_type": "markdown",
   "metadata": {},
   "source": [
    "# Sensitivity Data Processing  "
   ]
  },
  {
   "cell_type": "code",
   "execution_count": 49,
   "metadata": {},
   "outputs": [
    {
     "name": "stdout",
     "output_type": "stream",
     "text": [
      "Parameter: sigma\n",
      "  Variation 0.05: -17214,5496 10762,5471 -58376,5468 -3115,8674\n",
      "  Variation 0.1: -17163,0045 11452,9270 -58234,7262 -2708,4312\n",
      "  Variation 0.15: -19802,4697 12508,3308 -72837,2119 -1729,0619\n",
      "\n",
      "Parameter: drift\n",
      "  Variation 0.001: -18176,7014 11603,4099 -66151,2077 -2725,6760\n",
      "  Variation 0.005: -17312,5588 11813,4246 -58768,2077 -2161,9263\n",
      "  Variation 0.01: -17556,2743 12879,4310 -83556,9792 -2031,4586\n",
      "\n",
      "Parameter: gamma\n",
      "  Variation 0.99: -17765,7321 11354,8635 -68979,6940 -2654,2621\n",
      "  Variation 0.95: -16563,4081 11603,8217 -78129,1676 -3199,2764\n",
      "  Variation 0.9: -18990,7850 11928,5776 -64365,9824 -2515,1489\n",
      "\n",
      "Parameter: itp\n",
      "  Variation 0.5: -27047,3603 19556,4608 -107178,8881 -3294,1903\n",
      "  Variation 0.1: -18708,9251 12298,7958 -76833,6529 -2290,0633\n",
      "  Variation 0.2: -17576,6144 12271,8257 -70039,7876 -2386,1260\n",
      "\n",
      "Parameter: ms\n",
      "  Variation 0.01: -22230,8757 12673,7355 -75770,3661 -4391,4234\n",
      "  Variation 0.03: -20536,0437 12412,5706 -85853,2105 -2740,2412\n",
      "  Variation 0.05: -15708,3758 11768,3349 -75338,0473 -1261,9275\n",
      "\n",
      "Parameter: tf\n",
      "  Variation 0.5: -13849,5446 7703,7857 -44135,8201 -3069,4028\n",
      "  Variation 1: -19052,3464 12001,4971 -73216,7089 -1858,9800\n",
      "  Variation 2: -26533,9849 20314,7214 -96507,4002 164,0760\n",
      "\n",
      "Parameter: inventory\n",
      "  Variation 0: -18753,1473 12160,3512 -69299,0296 -2503,5690\n",
      "  Variation 100: -19735,6000 12398,4380 -68667,6819 -1598,7963\n",
      "  Variation 500: -18342,9873 13410,7125 -72067,0112 6569,7174\n",
      "\n",
      "Parameter: itfp\n",
      "  Variation 1: -15731,9043 10338,5729 -66530,4491 -901,3473\n",
      "  Variation 10: -17968,5813 12629,8351 -79454,4526 -2652,5167\n",
      "  Variation 50: -29037,7112 18313,4328 -107726,6882 -2944,8648\n",
      "\n"
     ]
    }
   ],
   "source": [
    "import pandas as pd\n",
    "\n",
    "def load_and_describe(file_path):\n",
    "    df = pd.read_csv(file_path, comment='#')\n",
    "    desc_stats = df.describe()\n",
    "    return desc_stats.transpose()\n",
    "\n",
    "def print_sensitivity_stats(parameters, base_path):\n",
    "    for param, variations in parameters.items():\n",
    "        print(f\"Parameter: {param}\")\n",
    "        for variation in variations:\n",
    "            file_path = f\"{base_path}/{param}/{variation}/monitor.csv\"\n",
    "            desc_stats = load_and_describe(file_path)\n",
    "\n",
    "            mean_val = f\"{desc_stats['mean']['r']:.4f}\".replace('.', ',')\n",
    "            std_val = f\"{desc_stats['std']['r']:.4f}\".replace('.', ',')\n",
    "            min_val = f\"{desc_stats['min']['r']:.4f}\".replace('.', ',')\n",
    "            max_val = f\"{desc_stats['max']['r']:.4f}\".replace('.', ',')\n",
    "\n",
    "            print(f\"  Variation {variation}: {mean_val} {std_val} {min_val} {max_val}\")\n",
    "        print()\n",
    "\n",
    "# Example usage\n",
    "params = {\n",
    "    'sigma': [0.05, 0.1, 0.15],\n",
    "    'drift': [0.001, 0.005, 0.01],\n",
    "    'gamma': [0.99, 0.95, 0.9],\n",
    "    'itp': [0.5, 0.1, 0.2],\n",
    "    'ms': [0.01, 0.03, 0.05],\n",
    "    'tf': [0.5, 1, 2],\n",
    "    'inventory': [0, 100, 500],\n",
    "    'itfp': [1, 10, 50]\n",
    "}\n",
    "\n",
    "base_path = '/Users/ulfarsnaefeld/Desktop/CORPFIN/thesis/programs/illiquid-rm-mm-env/src/models/trained_models/DQN'\n",
    "print_sensitivity_stats(params, base_path)"
   ]
  }
 ],
 "metadata": {
  "kernelspec": {
   "display_name": ".env",
   "language": "python",
   "name": "python3"
  },
  "language_info": {
   "codemirror_mode": {
    "name": "ipython",
    "version": 3
   },
   "file_extension": ".py",
   "mimetype": "text/x-python",
   "name": "python",
   "nbconvert_exporter": "python",
   "pygments_lexer": "ipython3",
   "version": "3.11.5"
  }
 },
 "nbformat": 4,
 "nbformat_minor": 2
}
