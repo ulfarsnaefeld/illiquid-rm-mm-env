{
 "cells": [
  {
   "cell_type": "code",
   "execution_count": 5,
   "metadata": {},
   "outputs": [],
   "source": [
    "import gymnasium as gym\n",
    "import numpy as np\n",
    "import pandas as pd\n",
    "import math\n",
    "import matplotlib.pyplot as plt\n",
    "from stable_baselines3 import DQN\n",
    "from stable_baselines3.common.env_checker import check_env\n",
    "from stable_baselines3.common.monitor import Monitor\n",
    "from stable_baselines3.common.results_plotter import load_results, ts2xy, plot_results\n",
    "from matplotlib.table import Table\n",
    "from matplotlib.font_manager import FontProperties\n",
    "import itertools\n",
    "import os"
   ]
  },
  {
   "cell_type": "markdown",
   "metadata": {},
   "source": [
    "# Training Liquid vs. Illiquid Data Processing"
   ]
  },
  {
   "cell_type": "code",
   "execution_count": 68,
   "metadata": {},
   "outputs": [
    {
     "name": "stdout",
     "output_type": "stream",
     "text": [
      "Market: liquid\n",
      "DQN: 656.5391 1718.7866 -5200.2039 -517.4599 854.1349 1918.0366 4766.1728\n",
      "A2C: -28.7184 2051.4556 -5829.4411 -1398.9946 61.8911 1574.7862 4457.8359\n",
      "PPO: -168.7131 1981.6461 -6433.7147 -1300.0506 32.3794 1180.4802 4379.0948\n",
      "\n",
      "Market: illiquid\n",
      "DQN: -267.4418 1377.1400 -6317.4910 -1008.0325 68.9078 704.5704 2811.9682\n",
      "A2C: -805.7185 1590.4932 -7140.9240 -1751.8454 -646.0262 439.0760 2566.2616\n",
      "PPO: -899.9535 1424.4436 -6383.6595 -1655.8507 -412.1911 130.4586 1094.5359\n",
      "\n"
     ]
    }
   ],
   "source": [
    "import pandas as pd\n",
    "\n",
    "def load_and_describe(file_path):\n",
    "    df = pd.read_csv(file_path, comment='#')\n",
    "    desc_stats = df.describe()\n",
    "    return desc_stats.transpose()\n",
    "\n",
    "def print_market_cond_stats(base_path):\n",
    "    markets = ['liquid', 'illiquid']\n",
    "    models = ['DQN', 'A2C', 'PPO']\n",
    "\n",
    "    for market in markets:\n",
    "        print(f\"Market: {market}\")\n",
    "        for model in models:\n",
    "            file_path = f\"{base_path}/{model}/{market}/monitor.csv\"\n",
    "            desc_stats = load_and_describe(file_path)\n",
    "\n",
    "            mean_val = f\"{desc_stats['mean']['r']:.4f}\"#.replace('.', ',')\n",
    "            std_val = f\"{desc_stats['std']['r']:.4f}\"#.replace('.', ',')\n",
    "            min_val = f\"{desc_stats['min']['r']:.4f}\"#.replace('.', ',')\n",
    "            first_val = f\"{desc_stats['25%']['r']:.4f}\"#.replace('.', ',')\n",
    "            second_val = f\"{desc_stats['50%']['r']:.4f}\"#.replace('.', ',')\n",
    "            third_val = f\"{desc_stats['75%']['r']:.4f}\"#.replace('.', ',')\n",
    "            max_val = f\"{desc_stats['max']['r']:.4f}\"#.replace('.', ',')\n",
    "\n",
    "            print(f\"{model}: {mean_val} {std_val} {min_val} {first_val} {second_val} {third_val} {max_val}\")\n",
    "        print()\n",
    "\n",
    "\n",
    "base_path = '/Users/ulfarsnaefeld/Desktop/CORPFIN/thesis/programs/illiquid-rm-mm-env/src/models/trained_models/12-08-2024_14:38/'\n",
    "print_market_cond_stats(base_path)"
   ]
  },
  {
   "cell_type": "markdown",
   "metadata": {},
   "source": [
    "# Sensitivity Data Processing  "
   ]
  },
  {
   "cell_type": "code",
   "execution_count": 82,
   "metadata": {},
   "outputs": [
    {
     "name": "stdout",
     "output_type": "stream",
     "text": [
      "Parameter: sigma\n",
      "  Variation 0.025 643.6693 1697.3459 -4381.3229 4415.7379\n",
      "  Variation 0.05 477.8429 1895.6296 -7238.3642 4443.8552\n",
      "  Variation 0.075 361.7189 2007.0529 -8575.7133 4491.9240\n",
      "\n",
      "Parameter: tf\n",
      "  Variation 0.5 -33.6651 831.9538 -3805.8581 2008.7721\n",
      "  Variation 1 135.8850 1222.1559 -4411.5720 3239.0733\n",
      "  Variation 2 560.9892 1752.0910 -5490.5623 4291.0474\n",
      "\n",
      "Parameter: itp\n",
      "  Variation 0.5 -258.6096 1313.7058 -5168.6681 2671.4813\n",
      "  Variation 0.1 -251.5534 1371.8911 -5361.0951 3002.4365\n",
      "  Variation 0.2 -326.8615 1348.4292 -5216.9444 2602.7277\n",
      "\n",
      "Parameter: ms\n",
      "  Variation 0.01 -225.4810 1763.4782 -5267.6353 3369.2732\n",
      "  Variation 0.02 648.9758 1700.4842 -4530.7483 4345.6024\n",
      "  Variation 0.05 3199.8010 1770.3764 -2172.1763 7041.3019\n",
      "\n",
      "Parameter: itfp\n",
      "  Variation 1 968.1527 1694.8307 -3971.7451 4777.9743\n",
      "  Variation 10 708.0904 1658.6489 -3829.3526 4394.7044\n",
      "  Variation 50 519.3749 2047.3817 -6176.0476 5208.6051\n",
      "\n",
      "Parameter: inventory\n",
      "  Variation 0 645.3118 1743.8658 -4492.7429 4349.1721\n",
      "  Variation 100 -431.4897 1222.6133 -5154.8718 1637.2343\n",
      "  Variation 500 -1413.9061 2401.9756 -12062.7580 3167.0631\n",
      "\n"
     ]
    }
   ],
   "source": [
    "import pandas as pd\n",
    "\n",
    "def load_and_describe(file_path):\n",
    "    df = pd.read_csv(file_path, comment='#')\n",
    "    desc_stats = df.describe()\n",
    "    return desc_stats.transpose()\n",
    "\n",
    "def print_sensitivity_stats(parameters, base_path):\n",
    "    for param, variations in parameters.items():\n",
    "        print(f\"Parameter: {param}\")\n",
    "        for variation in variations:\n",
    "            file_path = f\"{base_path}/{param}/{variation}/monitor.csv\"\n",
    "            desc_stats = load_and_describe(file_path)\n",
    "\n",
    "            mean_val = f\"{desc_stats['mean']['r']:.4f}\"\n",
    "            std_val = f\"{desc_stats['std']['r']:.4f}\"\n",
    "            min_val = f\"{desc_stats['min']['r']:.4f}\"\n",
    "            max_val = f\"{desc_stats['max']['r']:.4f}\"\n",
    "\n",
    "            print(f\"  Variation {variation} {mean_val} {std_val} {min_val} {max_val}\")\n",
    "        print()\n",
    "\n",
    "# Example usage\n",
    "params = {\n",
    "    'sigma': [0.025, 0.05, 0.075],\n",
    "    'tf': [0.5, 1, 2],\n",
    "    'itp': [0.5, 0.1, 0.2],\n",
    "    'ms': [0.01, 0.02, 0.05],\n",
    "    'itfp': [1, 10, 50],\n",
    "    'inventory': [0, 100, 500]\n",
    "}\n",
    "\n",
    "base_path = '/Users/ulfarsnaefeld/Desktop/CORPFIN/thesis/programs/illiquid-rm-mm-env/src/models/trained_models/12-08-2024_14:38/DQN'\n",
    "print_sensitivity_stats(params, base_path)"
   ]
  }
 ],
 "metadata": {
  "kernelspec": {
   "display_name": ".env",
   "language": "python",
   "name": "python3"
  },
  "language_info": {
   "codemirror_mode": {
    "name": "ipython",
    "version": 3
   },
   "file_extension": ".py",
   "mimetype": "text/x-python",
   "name": "python",
   "nbconvert_exporter": "python",
   "pygments_lexer": "ipython3",
   "version": "3.11.5"
  }
 },
 "nbformat": 4,
 "nbformat_minor": 2
}
